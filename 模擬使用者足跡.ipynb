{
 "cells": [
  {
   "cell_type": "markdown",
   "metadata": {},
   "source": [
    "分析用戶在網站上的瀏覽模式，特別是瞭解哪些頁面或功能經常一起被訪問。"
   ]
  },
  {
   "cell_type": "code",
   "execution_count": 104,
   "metadata": {},
   "outputs": [],
   "source": [
    "import numpy as np\n",
    "import pandas as pd\n",
    "from bs4 import BeautifulSoup\n",
    "import urllib.request\n",
    "from scipy import sparse\n",
    "from mlxtend.preprocessing import TransactionEncoder\n",
    "from mlxtend.frequent_patterns import apriori"
   ]
  },
  {
   "cell_type": "markdown",
   "metadata": {},
   "source": [
    "get_link_list 抓取網頁，使用BeautifulSoup進行解析，並從超連結（<\\a> 標籤）中提取所有文本，然後將這些文本作為列表返回。\n",
    "\n",
    "get_journey 生成隨機網絡行程： 此函數生成一個隨機的稀疏矩陣，每一行代表用戶在網站的一次行程，每一列代表不同的超連結。density 參數控制每次行程中可能訪問的連結數量。\n"
   ]
  },
  {
   "cell_type": "code",
   "execution_count": 105,
   "metadata": {},
   "outputs": [],
   "source": [
    "\n",
    "web_links = [\n",
    "    'https://www.ezding.com.tw/cinemabooking?cinemaid=40288eb0050f542401050f554e7e0674',\n",
    "    'https://www.ezding.com.tw/premiere'\n",
    "]\n",
    "\n",
    "#取得網頁文字\n",
    "def get_link_list(link_id = 0):\n",
    "    global web_links\n",
    "\n",
    "    _web_page = urllib.request.urlopen(web_links[link_id])\n",
    "\n",
    "    _soup = BeautifulSoup(_web_page, 'html.parser')\n",
    "\n",
    "    _link_list = []\n",
    "\n",
    "    for link in _soup.find_all('a'):\n",
    "        _link_text = link.get_text().strip()\n",
    "\n",
    "        if _link_text != _link_text:\n",
    "            continue\n",
    "        if _link_text == '':\n",
    "            continue\n",
    "\n",
    "        _link_list.append(_link_text)\n",
    "        \n",
    "    #print(_web_page)\n",
    "    #print(_soup)\n",
    "    return np.array(_link_list)\n",
    "\n",
    "#生成隨機網路行程\n",
    "def get_journey(link_list, num_journey = 100, ratio_foot = 0.10):     #num_journey = 模擬組數 \n",
    "    return sparse.random(num_journey,                                 #sparse.random(行數,列數,非零元素的密度)\n",
    "                         link_list.shape[0],\n",
    "                         density = ratio_foot,\n",
    "                         data_rvs = np.ones)\n"
   ]
  },
  {
   "cell_type": "code",
   "execution_count": 106,
   "metadata": {},
   "outputs": [
    {
     "name": "stdout",
     "output_type": "stream",
     "text": [
      "所有影城(站) :\n"
     ]
    },
    {
     "data": {
      "text/plain": [
       "array(['威秀影城Vieshow Cinema', '新光影城Skcinemas', 'in89豪華數位影城in89 Cinemax',\n",
       "       '美麗華影城Miramar Cinemas', '樂聲影城Lux Cinemas'], dtype='<U22')"
      ]
     },
     "execution_count": 106,
     "metadata": {},
     "output_type": "execute_result"
    }
   ],
   "source": [
    "link_list = None\n",
    "\n",
    "for link_id in range(len(web_links)):\n",
    "    _link_list = get_link_list(link_id)\n",
    "    if link_list is None:\n",
    "        link_list = _link_list\n",
    "    else:\n",
    "        link_list = np.append(link_list, _link_list)\n",
    "\n",
    "print(\"所有影城(站) :\")\n",
    "link_list[:5]"
   ]
  },
  {
   "cell_type": "code",
   "execution_count": 107,
   "metadata": {},
   "outputs": [
    {
     "name": "stdout",
     "output_type": "stream",
     "text": [
      "模擬路線前五筆 :\n",
      "美麗華影城Miramar Cinemas >> 樂聲影城Lux Cinemas >> 真善美戲院Wonderful Theatre >> 新光影城Skcinemas >> 喜滿客影城Cinemark >> 真善美戲院Wonderful Theatre\n",
      "威秀影城Vieshow Cinema >> 新光影城Skcinemas >> in89豪華數位影城in89 Cinemax >> 美麗華影城Miramar Cinemas >> 樂聲影城Lux Cinemas >> 喜滿客影城Cinemark >> in89豪華數位影城in89 Cinemax >> 美麗華影城Miramar Cinemas >> 樂聲影城Lux Cinemas >> 喜樂時代影城Century Asia >> 喜滿客影城Cinemark >> 真善美戲院Wonderful Theatre\n",
      "威秀影城Vieshow Cinema >> in89豪華數位影城in89 Cinemax >> 美麗華影城Miramar Cinemas >> 樂聲影城Lux Cinemas >> 喜滿客影城Cinemark >> 威秀影城Vieshow Cinema >> 新光影城Skcinemas >> in89豪華數位影城in89 Cinemax >> 喜樂時代影城Century Asia\n",
      "in89豪華數位影城in89 Cinemax >> 喜樂時代影城Century Asia >> 真善美戲院Wonderful Theatre >> 威秀影城Vieshow Cinema >> 新光影城Skcinemas >> 喜樂時代影城Century Asia >> 喜滿客影城Cinemark >> 真善美戲院Wonderful Theatre\n",
      "威秀影城Vieshow Cinema >> 新光影城Skcinemas >> 美麗華影城Miramar Cinemas >> 樂聲影城Lux Cinemas >> 喜樂時代影城Century Asia >> 真善美戲院Wonderful Theatre >> 威秀影城Vieshow Cinema >> 新光影城Skcinemas >> 美麗華影城Miramar Cinemas >> 樂聲影城Lux Cinemas >> 真善美戲院Wonderful Theatre\n"
     ]
    }
   ],
   "source": [
    "A = get_journey(link_list, num_journey=500, ratio_foot=0.5)\n",
    "\n",
    "web_journey = []\n",
    "for j in A.toarray():\n",
    "    _journey = []\n",
    "\n",
    "    for i in range(len(j)):\n",
    "        if j[i]:\n",
    "            _journey.append(link_list[i])\n",
    "    web_journey.append(_journey)\n",
    "\n",
    "#印出前幾筆\n",
    "num_sample = 5\n",
    "print(\"模擬路線前五筆 :\")\n",
    "for j in web_journey[:num_sample]:\n",
    "    print(' >> '.join(j))"
   ]
  },
  {
   "cell_type": "markdown",
   "metadata": {},
   "source": [
    "使用 mlxtend 函式庫中的 TransactionEncoder 將網絡行程轉換為適合Apriori算法的格式。\n"
   ]
  },
  {
   "cell_type": "code",
   "execution_count": 108,
   "metadata": {},
   "outputs": [
    {
     "name": "stdout",
     "output_type": "stream",
     "text": [
      "   in89豪華數位影城in89 Cinemax  其他影城Others  喜樂時代影城Century Asia  喜滿客影城Cinemark  \\\n",
      "0                   False       False               False           True   \n",
      "1                    True       False                True           True   \n",
      "2                    True       False                True           True   \n",
      "3                    True       False                True           True   \n",
      "4                   False       False                True          False   \n",
      "\n",
      "   威秀影城Vieshow Cinema  新光影城Skcinemas  樂聲影城Lux Cinemas  真善美戲院Wonderful Theatre  \\\n",
      "0               False           True             True                    True   \n",
      "1                True           True             True                    True   \n",
      "2                True           True             True                   False   \n",
      "3                True           True            False                    True   \n",
      "4                True           True             True                    True   \n",
      "\n",
      "   美麗華影城Miramar Cinemas  \n",
      "0                  True  \n",
      "1                  True  \n",
      "2                  True  \n",
      "3                 False  \n",
      "4                  True  \n"
     ]
    }
   ],
   "source": [
    "te = TransactionEncoder()\n",
    "\n",
    "te_array = te.fit(web_journey).transform(web_journey) #True, Flase矩陣, 標記有沒有進入此子網站\n",
    "\n",
    "#print('\\t'.join(te.columns_)) #站\n",
    "\n",
    "te_dataset = pd.DataFrame(te_array, columns = te.columns_)\n",
    "\n",
    "print(te_dataset.head(5))\n"
   ]
  },
  {
   "cell_type": "markdown",
   "metadata": {},
   "source": [
    "應用Apriori算法： 使用 apriori 函數找出數據集中的常見項目集（一起被訪問的連結集合）。\n",
    "\n",
    "最小支持度閾值 = 一個項目集至少出現在 百分之多少 的用戶行程中, 表示站跟站之間相關的比例有多高。"
   ]
  },
  {
   "cell_type": "code",
   "execution_count": 109,
   "metadata": {},
   "outputs": [
    {
     "name": "stdout",
     "output_type": "stream",
     "text": [
      "    support                                      itemsets  length\n",
      "9     0.536          (in89豪華數位影城in89 Cinemax, 其他影城Others)       2\n",
      "10    0.560  (in89豪華數位影城in89 Cinemax, 喜樂時代影城Century Asia)       2\n",
      "11    0.558       (in89豪華數位影城in89 Cinemax, 喜滿客影城Cinemark)       2\n",
      "12    0.526  (in89豪華數位影城in89 Cinemax, 威秀影城Vieshow Cinema)       2\n",
      "13    0.544       (新光影城Skcinemas, in89豪華數位影城in89 Cinemax)       2\n",
      "共識別出 502 種不同的瀏覽模式(足跡)，每種模式中至少包括 2 個經常一起被訪問的網頁連結\n"
     ]
    }
   ],
   "source": [
    "journey_rules = apriori(te_dataset, min_support=0.05, use_colnames=True)\n",
    "journey_rules['length'] = journey_rules['itemsets'].apply(lambda x: len(x))\n",
    "\n",
    "journey_length = 1\n",
    "journey_2 = journey_rules[journey_rules['length']>journey_length] #超過兩個連結的項目集\n",
    "print(journey_2.head())\n",
    "\n",
    "print('共識別出 %d 種不同的瀏覽模式(足跡)，每種模式中至少包括 %d 個經常一起被訪問的網頁連結' % (journey_2.shape[0],journey_length+1))"
   ]
  }
 ],
 "metadata": {
  "kernelspec": {
   "display_name": "base",
   "language": "python",
   "name": "python3"
  },
  "language_info": {
   "codemirror_mode": {
    "name": "ipython",
    "version": 3
   },
   "file_extension": ".py",
   "mimetype": "text/x-python",
   "name": "python",
   "nbconvert_exporter": "python",
   "pygments_lexer": "ipython3",
   "version": "3.11.3"
  }
 },
 "nbformat": 4,
 "nbformat_minor": 2
}
